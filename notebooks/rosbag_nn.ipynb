{
 "cells": [
  {
   "cell_type": "code",
   "execution_count": 1,
   "id": "a67c7dbd-c8c3-454c-addd-912185188ed1",
   "metadata": {},
   "outputs": [],
   "source": [
    "%load_ext autoreload\n",
    "%autoreload 2|"
   ]
  },
  {
   "cell_type": "markdown",
   "id": "6f428da1-b093-4279-9c97-172d5cf34ecd",
   "metadata": {},
   "source": [
    "### Imports"
   ]
  },
  {
   "cell_type": "code",
   "execution_count": 2,
   "id": "609ae82b-bb18-4087-ac0d-a91e75dcd4f7",
   "metadata": {},
   "outputs": [],
   "source": [
    "PYTHON_PATHS = [\"..\"]\n",
    "import sys\n",
    "for path in PYTHON_PATHS:\n",
    "    if path not in sys.path:\n",
    "        sys.path.append(path)\n",
    "\n",
    "import torch\n",
    "import torch.nn as nn\n",
    "import pytorch_lightning as pl\n",
    "from torchvision.io import read_image\n",
    "\n",
    "import rosbag\n",
    "from sensor_msgs.msg import Image\n",
    "from cv_bridge import CvBridge\n",
    "\n",
    "from data_loader.orb_features_dataset import ORBFeaturesDataset\n",
    "from data_loader.orb_features_data_module import ORBFeaturesDataModule\n",
    "from classifier.resnet18 import Resnet18Model\n",
    "\n",
    "import numpy as np\n",
    "from tqdm.notebook import tqdm\n",
    "import cv2\n",
    "from matplotlib import pyplot as plt"
   ]
  },
  {
   "cell_type": "markdown",
   "id": "fccc43db-a50a-4c3a-ab24-90d722cfb28f",
   "metadata": {},
   "source": [
    "### Model & Checkpoint Loading"
   ]
  },
  {
   "cell_type": "code",
   "execution_count": 3,
   "id": "c8f3faac-72dd-4865-bf14-99be8e435edc",
   "metadata": {},
   "outputs": [
    {
     "name": "stderr",
     "output_type": "stream",
     "text": [
      "Using cache found in /home/nuke/.cache/torch/hub/pytorch_vision_v0.10.0\n"
     ]
    },
    {
     "name": "stdout",
     "output_type": "stream",
     "text": [
      "network head\n",
      "Sequential(\n",
      "  (0): Linear(in_features=512, out_features=512, bias=True)\n",
      "  (1): ReLU()\n",
      "  (2): Linear(in_features=512, out_features=512, bias=True)\n",
      "  (3): ReLU()\n",
      "  (4): Linear(in_features=512, out_features=2, bias=True)\n",
      ")\n"
     ]
    }
   ],
   "source": [
    "model = Resnet18Model.load_from_checkpoint(\"orb-classifier-8.ckpt\", \n",
    "                                           in_size=512, hidden_sizes=[512], out_size=2)\n",
    "\n",
    "model = model.cpu()\n",
    "model = model.eval()"
   ]
  },
  {
   "cell_type": "code",
   "execution_count": 4,
   "id": "ad6ac628-bac2-42c0-b5a6-ccd3626ccfd2",
   "metadata": {},
   "outputs": [],
   "source": [
    "bridge = CvBridge()"
   ]
  },
  {
   "cell_type": "code",
   "execution_count": 6,
   "id": "cb2cc9df-8605-4dd9-8376-9cbd22face38",
   "metadata": {},
   "outputs": [],
   "source": [
    "def read_dataset_img(img_path, tranform):\n",
    "    image = read_image(img_path)[None, ...]\n",
    "    return tranform(image)"
   ]
  },
  {
   "cell_type": "code",
   "execution_count": null,
   "id": "cf278f38-6127-4f42-8bd5-4daecc8b2bd2",
   "metadata": {},
   "outputs": [
    {
     "data": {
      "application/vnd.jupyter.widget-view+json": {
       "model_id": "527222e4bbb146d284a32eeb24ef5370",
       "version_major": 2,
       "version_minor": 0
      },
      "text/plain": [
       "  0%|          | 0/6 [00:00<?, ?it/s]"
      ]
     },
     "metadata": {},
     "output_type": "display_data"
    },
    {
     "data": {
      "application/vnd.jupyter.widget-view+json": {
       "model_id": "",
       "version_major": 2,
       "version_minor": 0
      },
      "text/plain": [
       "  0%|          | 0/15319 [00:00<?, ?it/s]"
      ]
     },
     "metadata": {},
     "output_type": "display_data"
    },
    {
     "data": {
      "application/vnd.jupyter.widget-view+json": {
       "model_id": "",
       "version_major": 2,
       "version_minor": 0
      },
      "text/plain": [
       "  0%|          | 0/15319 [00:00<?, ?it/s]"
      ]
     },
     "metadata": {},
     "output_type": "display_data"
    },
    {
     "data": {
      "application/vnd.jupyter.widget-view+json": {
       "model_id": "add994e1a1ca426d8224f99251a74521",
       "version_major": 2,
       "version_minor": 0
      },
      "text/plain": [
       "  0%|          | 0/15319 [00:00<?, ?it/s]"
      ]
     },
     "metadata": {},
     "output_type": "display_data"
    }
   ],
   "source": [
    "# bag = rosbag.Bag(\"/media/nuke/nuke-ssd/hermesbot/datasets/omni-slam/raw_bags/2022-02-25-16-15-51.bag\")\n",
    "# bag = rosbag.Bag(\"/media/nuke/nuke-ssd/hermesbot/datasets/with_lidar_20220609/cameras.bag\")\n",
    "bag = rosbag.Bag(\"/media/nuke/nuke-ssd/hermesbot/datasets/with_lidar_20220610/2022-06-10-12-48-50.bag\")\n",
    "results = {}\n",
    "for cam_num in tqdm(range(6)):\n",
    "    tstamps = []\n",
    "    outs = []\n",
    "    res_small = {}\n",
    "    for topic, msg, t in tqdm(bag.read_messages(topics=['/cam' + str(cam_num) + '/image_raw']), leave=False, total=bag.get_message_count('/cam' + str(cam_num) + '/image_raw')):\n",
    "        cv_image = bridge.imgmsg_to_cv2(msg, desired_encoding='passthrough')\n",
    "        cv2.imwrite(\"test.jpg\", cv_image)\n",
    "        img = read_dataset_img(\"test.jpg\", model.transform)\n",
    "        outs.append(torch.nn.functional.softmax(model.forward(img), dim=1).detach().cpu().numpy()[0][1])\n",
    "        tstamps.append(t.to_nsec())\n",
    "    res_small['t'] = tstamps\n",
    "    res_small['r'] = outs\n",
    "    results[str(cam_num)] = res_small"
   ]
  },
  {
   "cell_type": "markdown",
   "id": "d2ad80bf-d3be-4cb8-9596-06b6a162a728",
   "metadata": {},
   "source": [
    "### Plot Results"
   ]
  },
  {
   "cell_type": "code",
   "execution_count": 37,
   "id": "77cf6468-7749-4178-afec-6bba7d7ffa54",
   "metadata": {},
   "outputs": [
    {
     "data": {
      "image/png": "[encoded data removed]",
      "text/plain": [
       "<Figure size 432x288 with 1 Axes>"
      ]
     },
     "metadata": {
      "needs_background": "light"
     },
     "output_type": "display_data"
    }
   ],
   "source": [
    "for i in range(6):\n",
    "    plt.plot(results[str(i)]['t'], results[str(i)]['r'])\n",
    "plt.show()"
   ]
  },
  {
   "cell_type": "markdown",
   "id": "fe038dfc-e761-45ed-b7dd-63aab6558eef",
   "metadata": {},
   "source": [
    "### Save results as CSV"
   ]
  },
  {
   "cell_type": "code",
   "execution_count": 41,
   "id": "b0944f9f-6151-43bf-a336-6156723f034f",
   "metadata": {},
   "outputs": [],
   "source": [
    "for i in range(6):\n",
    "    with open(\"outputs_cam\" + str(i) + \".csv\", 'w') as f:\n",
    "        t = results[str(i)]['t']\n",
    "        r = results[str(i)]['r']\n",
    "        f.write('nsecs, output\\n')\n",
    "        for j in range(len(t)):\n",
    "            f.write(str(t[j]) + ', ' + str(r[j]) + '\\n')\n"
   ]
  },
  {
   "cell_type": "code",
   "execution_count": null,
   "id": "9242dc9b-ac51-4041-b82b-519aa1bcac88",
   "metadata": {},
   "outputs": [],
   "source": [
    "cv_image2 = np.moveaxis(cv_image, 0, -1)\n",
    "\n",
    "plt.imshow(cv_image2)"
   ]
  },
  {
   "cell_type": "code",
   "execution_count": null,
   "id": "64280f4f-9d75-42dc-a482-5ea40c2f228f",
   "metadata": {},
   "outputs": [],
   "source": [
    "dataset_params = {'root': \"/media/nuke/nuke-ssd/hermesbot/datasets/omni-slam/\", \n",
    "                  'datasets': [\n",
    "#                               \"dataset_1_cam_0\",\n",
    "                              # \"dataset_1_cam_1\",\n",
    "                              # \"dataset_1_cam_2\",\n",
    "                              # \"dataset_1_cam_3\",\n",
    "                              \"dataset_2_cam_5\"\n",
    "                             ],\n",
    "                  'classification_threshold': 1,\n",
    "                  'transform': model.transform,\n",
    "                  'combine_data': False\n",
    "                 }\n",
    "\n",
    "dataset = ORBFeaturesDataset(**dataset_params)"
   ]
  },
  {
   "cell_type": "code",
   "execution_count": null,
   "id": "bb2d8967-1664-4bba-9bb6-22aab86f0d02",
   "metadata": {},
   "outputs": [],
   "source": [
    "predictions = []\n",
    "\n",
    "for d in tqdm(dataset.images_list):\n",
    "    preds= []\n",
    "    \n",
    "    for img_path in d:\n",
    "        img = read_dataset_img(img_path, model.transform)\n",
    "        preds.append(torch.nn.functional.softmax(model.forward(img), dim=1).detach().cpu().numpy())\n",
    "    predictions.append(preds)\n",
    "    \n",
    "labels = dataset.labels"
   ]
  },
  {
   "cell_type": "code",
   "execution_count": null,
   "id": "88b6f4ce-305f-460b-b382-afc54dca3fcd",
   "metadata": {},
   "outputs": [],
   "source": [
    "ress = [predictions[0][i][0][1] for i in range(len(predictions[0]))]"
   ]
  },
  {
   "cell_type": "code",
   "execution_count": null,
   "id": "7c99e843-ce81-4381-be91-ed34b0cf5579",
   "metadata": {},
   "outputs": [],
   "source": [
    "import matplotlib.pyplot as plt"
   ]
  },
  {
   "cell_type": "code",
   "execution_count": null,
   "id": "e63a35c1-4d86-4298-83a6-3bbe54da85fd",
   "metadata": {},
   "outputs": [],
   "source": [
    "plt.plot(ress)"
   ]
  },
  {
   "cell_type": "code",
   "execution_count": null,
   "id": "cb5f145f-e850-4e24-b80e-19c2d67713e3",
   "metadata": {},
   "outputs": [],
   "source": []
  }
 ],
 "metadata": {
  "kernelspec": {
   "display_name": "Python 3 (ipykernel)",
   "language": "python",
   "name": "python3"
  },
  "language_info": {
   "codemirror_mode": {
    "name": "ipython",
    "version": 3
   },
   "file_extension": ".py",
   "mimetype": "text/x-python",
   "name": "python",
   "nbconvert_exporter": "python",
   "pygments_lexer": "ipython3",
   "version": "3.8.10"
  }
 },
 "nbformat": 4,
 "nbformat_minor": 5
}
