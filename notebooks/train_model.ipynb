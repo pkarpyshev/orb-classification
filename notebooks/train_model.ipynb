{
 "cells": [
  {
   "cell_type": "code",
   "execution_count": 1,
   "id": "f508fae4-bafa-47b6-aa01-7a9e83ed435c",
   "metadata": {},
   "outputs": [],
   "source": [
    "%load_ext autoreload\n",
    "%autoreload 2"
   ]
  },
  {
   "cell_type": "code",
   "execution_count": 3,
   "id": "ef86abdf-ece5-4d5e-bfd4-7a29afe1be87",
   "metadata": {},
   "outputs": [],
   "source": [
    "PYTHON_PATHS = [\"..\"]\n",
    "import sys\n",
    "for path in PYTHON_PATHS:\n",
    "    if path not in sys.path:\n",
    "        sys.path.append(path)\n",
    "\n",
    "import torch\n",
    "import torch.nn as nn\n",
    "from classifier.model import *\n",
    "from data_loader.dataset_factory import DatasetFactory\n",
    "import pytorch_lightning as pl"
   ]
  },
  {
   "cell_type": "markdown",
   "id": "ee2d0993-1283-44ea-ad9f-10d7de2ce7fc",
   "metadata": {},
   "source": [
    "# ResNet backbone model"
   ]
  },
  {
   "cell_type": "code",
   "execution_count": 4,
   "id": "c1e077ff-1281-4844-9e94-d13f88fe30ca",
   "metadata": {},
   "outputs": [
    {
     "name": "stderr",
     "output_type": "stream",
     "text": [
      "Using cache found in /home/quetalasj/.cache/torch/hub/pytorch_vision_v0.10.0\n"
     ]
    }
   ],
   "source": [
    "resnet = torch.hub.load('pytorch/vision:v0.10.0', 'resnet18', pretrained=True)\n",
    "fc = nn.Linear(512, 1)\n",
    "model = Classifier(resnet, fc)"
   ]
  },
  {
   "cell_type": "code",
   "execution_count": 5,
   "id": "740507e2-c40b-4abc-8769-121867da5f14",
   "metadata": {},
   "outputs": [],
   "source": [
    "dataset_params = {'root': \"../data\", \n",
    "                  'dataset': \"room\", \n",
    "                  'labels_file': \"normalized_labels.csv\", \n",
    "                  'batch_size': 32,\n",
    "                  'shuffle': True,\n",
    "                  'num_workers': 1}\n",
    "\n",
    "train_dataloader = DatasetFactory(**dataset_params).make_data_loader()"
   ]
  },
  {
   "cell_type": "code",
   "execution_count": 6,
   "id": "d8ba3f27-acf2-4467-a3e8-79dc9cc1f35a",
   "metadata": {},
   "outputs": [
    {
     "name": "stderr",
     "output_type": "stream",
     "text": [
      "GPU available: True, used: True\n",
      "TPU available: False, using: 0 TPU cores\n",
      "IPU available: False, using: 0 IPUs\n",
      "LOCAL_RANK: 0 - CUDA_VISIBLE_DEVICES: [0]\n",
      "\n",
      "  | Name       | Type    | Params\n",
      "---------------------------------------\n",
      "0 | model      | ResNet  | 11.2 M\n",
      "1 | activation | Sigmoid | 0     \n",
      "2 | loss       | MSELoss | 0     \n",
      "---------------------------------------\n",
      "11.2 M    Trainable params\n",
      "0         Non-trainable params\n",
      "11.2 M    Total params\n",
      "44.708    Total estimated model params size (MB)\n",
      "/home/quetalasj/miniconda3/envs/orb-cls/lib/python3.8/site-packages/pytorch_lightning/trainer/data_loading.py:132: UserWarning: The dataloader, train_dataloader, does not have many workers which may be a bottleneck. Consider increasing the value of the `num_workers` argument` (try 8 which is the number of cpus on this machine) in the `DataLoader` init to improve performance.\n",
      "  rank_zero_warn(\n"
     ]
    },
    {
     "data": {
      "application/vnd.jupyter.widget-view+json": {
       "model_id": "3ff62dd3640e43828adfa0fb01926775",
       "version_major": 2,
       "version_minor": 0
      },
      "text/plain": [
       "Training: 0it [00:00, ?it/s]"
      ]
     },
     "metadata": {},
     "output_type": "display_data"
    }
   ],
   "source": [
    "trainer = pl.Trainer(gpus=1, log_every_n_steps=1, max_epochs=20)\n",
    "trainer.fit(model=model, train_dataloaders=train_dataloader)"
   ]
  },
  {
   "cell_type": "markdown",
   "id": "99ab42f3-4fe7-4494-9255-6c8ba8f25ac7",
   "metadata": {},
   "source": [
    "# HardNet backbone model"
   ]
  },
  {
   "cell_type": "code",
   "execution_count": null,
   "id": "26dbd06e-1294-4c1d-8771-2558e47af3c8",
   "metadata": {},
   "outputs": [],
   "source": []
  }
 ],
 "metadata": {
  "kernelspec": {
   "display_name": "Python 3",
   "language": "python",
   "name": "python3"
  },
  "language_info": {
   "codemirror_mode": {
    "name": "ipython",
    "version": 3
   },
   "file_extension": ".py",
   "mimetype": "text/x-python",
   "name": "python",
   "nbconvert_exporter": "python",
   "pygments_lexer": "ipython3",
   "version": "3.8.12"
  }
 },
 "nbformat": 4,
 "nbformat_minor": 5
}