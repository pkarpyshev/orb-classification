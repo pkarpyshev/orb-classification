{
 "cells": [
  {
   "cell_type": "code",
   "execution_count": 1,
   "id": "f508fae4-bafa-47b6-aa01-7a9e83ed435c",
   "metadata": {},
   "outputs": [],
   "source": [
    "%load_ext autoreload\n",
    "%autoreload 2"
   ]
  },
  {
   "cell_type": "code",
   "execution_count": 2,
   "id": "6c21ff22-b846-4e8c-8908-bfdb3095f05b",
   "metadata": {},
   "outputs": [],
   "source": [
    "# import os\n",
    "# import numpy as np\n",
    "# np.sort(os.listdir(\"/home/quetalasj/datasets/orb-cls/dataset_1_cam_1/images\"))[:100]"
   ]
  },
  {
   "cell_type": "code",
   "execution_count": 3,
   "id": "ef86abdf-ece5-4d5e-bfd4-7a29afe1be87",
   "metadata": {},
   "outputs": [],
   "source": [
    "PYTHON_PATHS = [\"..\"]\n",
    "import sys\n",
    "for path in PYTHON_PATHS:\n",
    "    if path not in sys.path:\n",
    "        sys.path.append(path)\n",
    "\n",
    "import torch\n",
    "import torch.nn as nn\n",
    "from classifier.resnet18 import Resnet18Model\n",
    "from data_loader.orb_features_data_module import ORBFeaturesDataModule\n",
    "import pytorch_lightning as pl"
   ]
  },
  {
   "cell_type": "markdown",
   "id": "ee2d0993-1283-44ea-ad9f-10d7de2ce7fc",
   "metadata": {},
   "source": [
    "# ResNet backbone model"
   ]
  },
  {
   "cell_type": "code",
   "execution_count": 4,
   "id": "c1e077ff-1281-4844-9e94-d13f88fe30ca",
   "metadata": {},
   "outputs": [
    {
     "name": "stderr",
     "output_type": "stream",
     "text": [
      "Using cache found in /home/quetalasj/.cache/torch/hub/pytorch_vision_v0.10.0\n"
     ]
    }
   ],
   "source": [
    "model = Resnet18Model(nn.Sequential(nn.Linear(512, 512),\n",
    "                                           nn.Linear(512, 512),\n",
    "                                           nn.Linear(512, 2)\n",
    "                                          ),\n",
    "                             freeze_backbone=False\n",
    "                            )"
   ]
  },
  {
   "cell_type": "code",
   "execution_count": 5,
   "id": "740507e2-c40b-4abc-8769-121867da5f14",
   "metadata": {},
   "outputs": [],
   "source": [
    "dataset_params = {'root': \"/home/quetalasj/datasets/orb-cls/\", \n",
    "                  'dataset': [\"room\", \n",
    "                              \"2022-02-25-16-15-51\",\n",
    "                             \"dataset_1_cam_1\",\n",
    "                              \"dataset_1_cam_2\",\n",
    "                              \"dataset_1_cam_3\",\n",
    "                              \"dataset_1_cam_4\",\n",
    "                              \"dataset_1_cam_5\",\n",
    "                             #\"dataset_1_cam_0\",\n",
    "                             ],\n",
    "                  'classification_threshold': 300,\n",
    "                  'transform': model.transform,\n",
    "                  'batch_size': 128+32,\n",
    "                  'shuffle': True,\n",
    "                  'num_workers': 6,\n",
    "                  'num_val': 1000,\n",
    "                  \"num_test\": 1000,\n",
    "                  }\n",
    "\n",
    "datamodule = ORBFeaturesDataModule(**dataset_params)"
   ]
  },
  {
   "cell_type": "code",
   "execution_count": null,
   "id": "d8ba3f27-acf2-4467-a3e8-79dc9cc1f35a",
   "metadata": {},
   "outputs": [
    {
     "name": "stderr",
     "output_type": "stream",
     "text": [
      "GPU available: True, used: True\n",
      "TPU available: False, using: 0 TPU cores\n",
      "IPU available: False, using: 0 IPUs\n",
      "LOCAL_RANK: 0 - CUDA_VISIBLE_DEVICES: [0]\n"
     ]
    },
    {
     "name": "stdout",
     "output_type": "stream",
     "text": [
      "datasetname: room\n",
      "num images: 314\n",
      "num labels: 314\n",
      "datasetname: 2022-02-25-16-15-51\n",
      "num images: 2547\n",
      "num labels: 2547\n",
      "datasetname: dataset_1_cam_1\n",
      "num images: 3824\n",
      "num labels: 3824\n",
      "datasetname: dataset_1_cam_2\n",
      "num images: 3824\n",
      "num labels: 3824\n",
      "datasetname: dataset_1_cam_3\n",
      "num images: 3825\n",
      "num labels: 3825\n",
      "datasetname: dataset_1_cam_4\n",
      "num images: 3826\n",
      "num labels: 3826\n",
      "datasetname: dataset_1_cam_5\n",
      "num images: 3825\n",
      "num labels: 3825\n"
     ]
    },
    {
     "name": "stderr",
     "output_type": "stream",
     "text": [
      "\n",
      "  | Name       | Type       | Params\n",
      "------------------------------------------\n",
      "0 | activation | LogSoftmax | 0     \n",
      "1 | loss       | NLLLoss    | 0     \n",
      "2 | backbone   | ResNet     | 11.2 M\n",
      "3 | fc         | Sequential | 526 K \n",
      "------------------------------------------\n",
      "11.7 M    Trainable params\n",
      "0         Non-trainable params\n",
      "11.7 M    Total params\n",
      "46.811    Total estimated model params size (MB)\n"
     ]
    },
    {
     "data": {
      "application/vnd.jupyter.widget-view+json": {
       "model_id": "",
       "version_major": 2,
       "version_minor": 0
      },
      "text/plain": [
       "Validation sanity check: 0it [00:00, ?it/s]"
      ]
     },
     "metadata": {},
     "output_type": "display_data"
    },
    {
     "name": "stderr",
     "output_type": "stream",
     "text": [
      "/home/quetalasj/miniconda3/envs/orb-cls/lib/python3.8/site-packages/pytorch_lightning/trainer/data_loading.py:659: UserWarning: Your `val_dataloader` has `shuffle=True`, it is strongly recommended that you turn this off for val/test/predict dataloaders.\n",
      "  rank_zero_warn(\n"
     ]
    },
    {
     "data": {
      "application/vnd.jupyter.widget-view+json": {
       "model_id": "8e0351681bd345e392a8ff0224e530a9",
       "version_major": 2,
       "version_minor": 0
      },
      "text/plain": [
       "Training: 0it [00:00, ?it/s]"
      ]
     },
     "metadata": {},
     "output_type": "display_data"
    },
    {
     "data": {
      "application/vnd.jupyter.widget-view+json": {
       "model_id": "",
       "version_major": 2,
       "version_minor": 0
      },
      "text/plain": [
       "Validating: 0it [00:00, ?it/s]"
      ]
     },
     "metadata": {},
     "output_type": "display_data"
    }
   ],
   "source": [
    "trainer = pl.Trainer(gpus=1, log_every_n_steps=1, max_epochs=20)\n",
    "trainer.fit(model, datamodule)"
   ]
  },
  {
   "cell_type": "markdown",
   "id": "99ab42f3-4fe7-4494-9255-6c8ba8f25ac7",
   "metadata": {},
   "source": [
    "# HardNet backbone model"
   ]
  },
  {
   "cell_type": "code",
   "execution_count": null,
   "id": "26dbd06e-1294-4c1d-8771-2558e47af3c8",
   "metadata": {},
   "outputs": [],
   "source": []
  }
 ],
 "metadata": {
  "kernelspec": {
   "display_name": "Python 3",
   "language": "python",
   "name": "python3"
  },
  "language_info": {
   "codemirror_mode": {
    "name": "ipython",
    "version": 3
   },
   "file_extension": ".py",
   "mimetype": "text/x-python",
   "name": "python",
   "nbconvert_exporter": "python",
   "pygments_lexer": "ipython3",
   "version": "3.8.12"
  }
 },
 "nbformat": 4,
 "nbformat_minor": 5
}
