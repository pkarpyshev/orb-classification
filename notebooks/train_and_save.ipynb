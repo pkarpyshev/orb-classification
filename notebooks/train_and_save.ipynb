{
 "cells": [
  {
   "cell_type": "code",
   "execution_count": 1,
   "id": "c9961c36-969d-4301-b62f-3f382d4b8977",
   "metadata": {},
   "outputs": [],
   "source": [
    "%load_ext autoreload\n",
    "%autoreload 2"
   ]
  },
  {
   "cell_type": "code",
   "execution_count": 2,
   "id": "c17a2049-971d-4378-abf2-f00d6732d0be",
   "metadata": {},
   "outputs": [],
   "source": [
    "PYTHON_PATHS = [\"..\"]\n",
    "import sys\n",
    "for path in PYTHON_PATHS:\n",
    "    if path not in sys.path:\n",
    "        sys.path.append(path)\n",
    "\n",
    "import torch\n",
    "import torch.nn as nn\n",
    "from classifier.resnet18 import Resnet18Model\n",
    "from data_loader.orb_features_data_module import ORBFeaturesDataModule\n",
    "import pytorch_lightning as pl"
   ]
  },
  {
   "cell_type": "code",
   "execution_count": 3,
   "id": "8647c443-6bd6-423e-b623-bc8b846b7794",
   "metadata": {},
   "outputs": [
    {
     "name": "stdout",
     "output_type": "stream",
     "text": [
      "network head\n",
      "Sequential(\n",
      "  (0): Linear(in_features=512, out_features=512, bias=True)\n",
      "  (1): ReLU()\n",
      "  (2): Linear(in_features=512, out_features=512, bias=True)\n",
      "  (3): ReLU()\n",
      "  (4): Linear(in_features=512, out_features=2, bias=True)\n",
      ")\n"
     ]
    },
    {
     "name": "stderr",
     "output_type": "stream",
     "text": [
      "Using cache found in /home/nuke/.cache/torch/hub/pytorch_vision_v0.10.0\n"
     ]
    }
   ],
   "source": [
    "model = Resnet18Model(512, [512], 2, freeze_backbone=False)"
   ]
  },
  {
   "cell_type": "code",
   "execution_count": 4,
   "id": "5747b56e-b918-4a40-94f8-0a41bee370ad",
   "metadata": {},
   "outputs": [],
   "source": [
    "dataset_params = {'root': \"/media/nuke/nuke-exfat/HermesBot/datasets/orb-cls/\", \n",
    "                  'dataset': [\n",
    "                      \"dataset_1_cam_1\",\n",
    "                      \"dataset_1_cam_2\",\n",
    "                      \"dataset_1_cam_3\",\n",
    "                      \"dataset_1_cam_4\",\n",
    "                      \"dataset_1_cam_5\",\n",
    "                      \n",
    "                      \"dataset_2_cam_0\",\n",
    "                      \"dataset_2_cam_1\",\n",
    "                      \"dataset_2_cam_2\",\n",
    "                      \"dataset_2_cam_3\",\n",
    "                      \"dataset_2_cam_4\",\n",
    "                      \"dataset_2_cam_5\",\n",
    "                             ],\n",
    "                  'classification_threshold': 300,\n",
    "                  'transform': model.transform,\n",
    "                  'batch_size': 64,\n",
    "                  'shuffle': True,\n",
    "                  'num_workers': 6,\n",
    "                  'num_val': 1000,\n",
    "                  \"num_test\": 1000,\n",
    "                  }\n",
    "\n",
    "datamodule = ORBFeaturesDataModule(**dataset_params)"
   ]
  },
  {
   "cell_type": "code",
   "execution_count": 5,
   "id": "f8b8c705-5561-444c-8bd1-0836fe31b646",
   "metadata": {},
   "outputs": [
    {
     "name": "stderr",
     "output_type": "stream",
     "text": [
      "GPU available: True, used: True\n",
      "TPU available: False, using: 0 TPU cores\n",
      "IPU available: False, using: 0 IPUs\n",
      "HPU available: False, using: 0 HPUs\n"
     ]
    },
    {
     "name": "stdout",
     "output_type": "stream",
     "text": [
      "datasetname: dataset_1_cam_1\n",
      "num images: 3824\n",
      "num labels: 3824\n",
      "datasetname: dataset_1_cam_2\n",
      "num images: 3824\n",
      "num labels: 3824\n",
      "datasetname: dataset_1_cam_3\n",
      "num images: 3825\n",
      "num labels: 3825\n",
      "datasetname: dataset_1_cam_4\n",
      "num images: 3826\n",
      "num labels: 3826\n",
      "datasetname: dataset_1_cam_5\n",
      "num images: 3825\n",
      "num labels: 3825\n",
      "datasetname: dataset_2_cam_0\n",
      "num images: 2546\n",
      "num labels: 2546\n",
      "datasetname: dataset_2_cam_1\n",
      "num images: 2546\n",
      "num labels: 2546\n",
      "datasetname: dataset_2_cam_2\n",
      "num images: 2546\n",
      "num labels: 2546\n",
      "datasetname: dataset_2_cam_3\n",
      "num images: 2546\n",
      "num labels: 2546\n",
      "datasetname: dataset_2_cam_4\n",
      "num images: 2546\n",
      "num labels: 2546\n",
      "datasetname: dataset_2_cam_5\n",
      "num images: 2546\n",
      "num labels: 2546\n"
     ]
    },
    {
     "name": "stderr",
     "output_type": "stream",
     "text": [
      "LOCAL_RANK: 0 - CUDA_VISIBLE_DEVICES: [0]\n",
      "\n",
      "  | Name       | Type       | Params\n",
      "------------------------------------------\n",
      "0 | activation | LogSoftmax | 0     \n",
      "1 | loss       | NLLLoss    | 0     \n",
      "2 | backbone   | ResNet     | 11.2 M\n",
      "3 | fc         | Sequential | 526 K \n",
      "------------------------------------------\n",
      "11.7 M    Trainable params\n",
      "0         Non-trainable params\n",
      "11.7 M    Total params\n",
      "46.811    Total estimated model params size (MB)\n"
     ]
    },
    {
     "data": {
      "application/vnd.jupyter.widget-view+json": {
       "model_id": "",
       "version_major": 2,
       "version_minor": 0
      },
      "text/plain": [
       "Sanity Checking: 0it [00:00, ?it/s]"
      ]
     },
     "metadata": {},
     "output_type": "display_data"
    },
    {
     "name": "stderr",
     "output_type": "stream",
     "text": [
      "/home/nuke/.cache/pypoetry/virtualenvs/orb-classification-iGtAwsn7-py3.8/lib/python3.8/site-packages/pytorch_lightning/trainer/connectors/data_connector.py:495: PossibleUserWarning: Your `val_dataloader`'s sampler has shuffling enabled, it is strongly recommended that you turn shuffling off for val/test/predict dataloaders.\n",
      "  rank_zero_warn(\n"
     ]
    },
    {
     "data": {
      "application/vnd.jupyter.widget-view+json": {
       "model_id": "8d0b1538595b4102ad6b972f209cf951",
       "version_major": 2,
       "version_minor": 0
      },
      "text/plain": [
       "Training: 0it [00:00, ?it/s]"
      ]
     },
     "metadata": {},
     "output_type": "display_data"
    },
    {
     "data": {
      "application/vnd.jupyter.widget-view+json": {
       "model_id": "",
       "version_major": 2,
       "version_minor": 0
      },
      "text/plain": [
       "Validation: 0it [00:00, ?it/s]"
      ]
     },
     "metadata": {},
     "output_type": "display_data"
    },
    {
     "name": "stderr",
     "output_type": "stream",
     "text": [
      "/home/nuke/.cache/pypoetry/virtualenvs/orb-classification-iGtAwsn7-py3.8/lib/python3.8/site-packages/pytorch_lightning/trainer/trainer.py:726: UserWarning: Detected KeyboardInterrupt, attempting graceful shutdown...\n",
      "  rank_zero_warn(\"Detected KeyboardInterrupt, attempting graceful shutdown...\")\n"
     ]
    }
   ],
   "source": [
    "trainer = pl.Trainer(gpus=1, log_every_n_steps=1, max_epochs=300)\n",
    "trainer.fit(model, datamodule)"
   ]
  },
  {
   "cell_type": "code",
   "execution_count": null,
   "id": "067ece2c-2715-4139-b903-64804b5061df",
   "metadata": {},
   "outputs": [],
   "source": [
    "trainer.save_checkpoint(\"orb-classifier-300.ckpt\")"
   ]
  },
  {
   "cell_type": "code",
   "execution_count": null,
   "id": "588a9f25-8b47-4993-8acb-bec85822a86b",
   "metadata": {},
   "outputs": [],
   "source": [
    "!ls"
   ]
  },
  {
   "cell_type": "code",
   "execution_count": null,
   "id": "582c2bc5-874b-4505-95f0-2f7a4de59870",
   "metadata": {},
   "outputs": [],
   "source": []
  }
 ],
 "metadata": {
  "kernelspec": {
   "display_name": "Python 3 (ipykernel)",
   "language": "python",
   "name": "python3"
  },
  "language_info": {
   "codemirror_mode": {
    "name": "ipython",
    "version": 3
   },
   "file_extension": ".py",
   "mimetype": "text/x-python",
   "name": "python",
   "nbconvert_exporter": "python",
   "pygments_lexer": "ipython3",
   "version": "3.8.10"
  }
 },
 "nbformat": 4,
 "nbformat_minor": 5
}
