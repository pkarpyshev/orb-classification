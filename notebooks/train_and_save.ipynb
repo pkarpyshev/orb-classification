{
 "cells": [
  {
   "cell_type": "code",
   "execution_count": 1,
   "id": "c9961c36-969d-4301-b62f-3f382d4b8977",
   "metadata": {},
   "outputs": [],
   "source": [
    "%load_ext autoreload\n",
    "%autoreload 2"
   ]
  },
  {
   "cell_type": "markdown",
   "id": "22ac411e-3297-4fb5-9f91-c2a09786938f",
   "metadata": {
    "tags": []
   },
   "source": [
    "### Imports"
   ]
  },
  {
   "cell_type": "code",
   "execution_count": 2,
   "id": "c17a2049-971d-4378-abf2-f00d6732d0be",
   "metadata": {},
   "outputs": [],
   "source": [
    "PYTHON_PATHS = [\"..\"]\n",
    "import sys\n",
    "for path in PYTHON_PATHS:\n",
    "    if path not in sys.path:\n",
    "        sys.path.append(path)\n",
    "\n",
    "import torch\n",
    "import torch.nn as nn\n",
    "from classifier.resnet18 import Resnet18Model\n",
    "from data_loader.orb_features_data_module import ORBFeaturesDataModule\n",
    "import pytorch_lightning as pl\n",
    "from glob import glob"
   ]
  },
  {
   "cell_type": "markdown",
   "id": "15eaf214-86ea-4c26-b19b-8e097a732622",
   "metadata": {},
   "source": [
    "### Global Parameters"
   ]
  },
  {
   "cell_type": "code",
   "execution_count": 3,
   "id": "277f0296-d1f9-48d8-bb25-9eca24899c0c",
   "metadata": {},
   "outputs": [],
   "source": [
    "# GLOBAL PARAMETERS\n",
    "CLASSIFICATION_THRESHOLD = 300.\n",
    "BATCH_SIZE = 8\n",
    "EPOCHS = 8\n",
    "NN_TYPE = 'regressor'\n",
    "SIG_COEFF = 0.001"
   ]
  },
  {
   "cell_type": "markdown",
   "id": "8a8a9e6d-f5f8-4f46-8f62-d05088e4195c",
   "metadata": {},
   "source": [
    "### Model"
   ]
  },
  {
   "cell_type": "code",
   "execution_count": 4,
   "id": "8647c443-6bd6-423e-b623-bc8b846b7794",
   "metadata": {},
   "outputs": [
    {
     "name": "stderr",
     "output_type": "stream",
     "text": [
      "Using cache found in /home/nuke/.cache/torch/hub/pytorch_vision_v0.10.0\n"
     ]
    },
    {
     "name": "stdout",
     "output_type": "stream",
     "text": [
      "network head\n",
      "Sequential(\n",
      "  (0): Linear(in_features=512, out_features=512, bias=True)\n",
      "  (1): ReLU()\n",
      "  (2): Linear(in_features=512, out_features=512, bias=True)\n",
      "  (3): ReLU()\n",
      "  (4): Linear(in_features=512, out_features=1, bias=True)\n",
      ")\n"
     ]
    }
   ],
   "source": [
    "if NN_TYPE == 'classificator':\n",
    "    model = Resnet18Model(512, [512], 2, freeze_backbone=False, nn_type = NN_TYPE)\n",
    "elif NN_TYPE == 'regressor':\n",
    "    model = Resnet18Model(512, [512], 1, freeze_backbone=False, nn_type = NN_TYPE)"
   ]
  },
  {
   "cell_type": "markdown",
   "id": "9dba9f93-f481-414c-affc-5ae74cbd7676",
   "metadata": {},
   "source": [
    "### Dataset"
   ]
  },
  {
   "cell_type": "code",
   "execution_count": 5,
   "id": "5747b56e-b918-4a40-94f8-0a41bee370ad",
   "metadata": {},
   "outputs": [],
   "source": [
    "dataset_params = {'root': glob('/media/*/*/hermesbot/datasets/omni-slam')[0], \n",
    "                  'dataset': [\n",
    "                      \"dataset_1_cam_1\",\n",
    "                      \"dataset_1_cam_2\",\n",
    "                      \"dataset_1_cam_3\",\n",
    "                      \"dataset_1_cam_4\",\n",
    "                      \"dataset_1_cam_5\",\n",
    "                      \n",
    "                      \"dataset_2_cam_0\",\n",
    "                      \"dataset_2_cam_1\",\n",
    "                      \"dataset_2_cam_2\",\n",
    "                      \"dataset_2_cam_3\",\n",
    "                      \"dataset_2_cam_4\",\n",
    "                      \"dataset_2_cam_5\",\n",
    "                      \n",
    "                      \"dataset_3_cam_0\",\n",
    "                      \"dataset_3_cam_1\",\n",
    "                      \"dataset_3_cam_2\",\n",
    "                      \"dataset_3_cam_3\",\n",
    "                      \"dataset_3_cam_4\",\n",
    "                      \"dataset_3_cam_5\",\n",
    "                             ],\n",
    "                  'classification_threshold': CLASSIFICATION_THRESHOLD,\n",
    "                  'transform': model.transform,\n",
    "                  'batch_size': BATCH_SIZE,\n",
    "                  'sig_coeff': SIG_COEFF,\n",
    "                  'nn_type': NN_TYPE,\n",
    "                  'shuffle': True,\n",
    "                  'num_workers': 6,\n",
    "                  'num_val': 1000,\n",
    "                  \"num_test\": 1000,\n",
    "                  }\n",
    "\n",
    "datamodule = ORBFeaturesDataModule(**dataset_params)"
   ]
  },
  {
   "cell_type": "markdown",
   "id": "2b82f3b7-44ed-458a-9e35-3de49a35ac53",
   "metadata": {},
   "source": [
    "### Training & Saving"
   ]
  },
  {
   "cell_type": "code",
   "execution_count": 6,
   "id": "f8b8c705-5561-444c-8bd1-0836fe31b646",
   "metadata": {
    "tags": []
   },
   "outputs": [
    {
     "name": "stderr",
     "output_type": "stream",
     "text": [
      "GPU available: True, used: True\n",
      "TPU available: False, using: 0 TPU cores\n",
      "IPU available: False, using: 0 IPUs\n",
      "HPU available: False, using: 0 HPUs\n"
     ]
    },
    {
     "name": "stdout",
     "output_type": "stream",
     "text": [
      "datasetname: dataset_1_cam_1\n",
      "num images: 3824\n",
      "num labels: 3824\n",
      "datasetname: dataset_1_cam_2\n",
      "num images: 3824\n",
      "num labels: 3824\n",
      "datasetname: dataset_1_cam_3\n",
      "num images: 3825\n",
      "num labels: 3825\n",
      "datasetname: dataset_1_cam_4\n",
      "num images: 3826\n",
      "num labels: 3826\n",
      "datasetname: dataset_1_cam_5\n",
      "num images: 3825\n",
      "num labels: 3825\n",
      "datasetname: dataset_2_cam_0\n",
      "num images: 2546\n",
      "num labels: 2546\n",
      "datasetname: dataset_2_cam_1\n",
      "num images: 2546\n",
      "num labels: 2546\n",
      "datasetname: dataset_2_cam_2\n",
      "num images: 2546\n",
      "num labels: 2546\n",
      "datasetname: dataset_2_cam_3\n",
      "num images: 2546\n",
      "num labels: 2546\n",
      "datasetname: dataset_2_cam_4\n",
      "num images: 2546\n",
      "num labels: 2546\n",
      "datasetname: dataset_2_cam_5\n",
      "num images: 2546\n",
      "num labels: 2546\n",
      "datasetname: dataset_3_cam_0\n",
      "num images: 6376\n",
      "num labels: 6376\n",
      "datasetname: dataset_3_cam_1\n",
      "num images: 6376\n",
      "num labels: 6376\n",
      "datasetname: dataset_3_cam_2\n",
      "num images: 6376\n",
      "num labels: 6376\n",
      "datasetname: dataset_3_cam_3\n",
      "num images: 6376\n",
      "num labels: 6376\n",
      "datasetname: dataset_3_cam_4\n",
      "num images: 6376\n",
      "num labels: 6376\n",
      "datasetname: dataset_3_cam_5\n",
      "num images: 6376\n",
      "num labels: 6376\n"
     ]
    },
    {
     "name": "stderr",
     "output_type": "stream",
     "text": [
      "LOCAL_RANK: 0 - CUDA_VISIBLE_DEVICES: [0]\n",
      "\n",
      "  | Name       | Type       | Params\n",
      "------------------------------------------\n",
      "0 | activation | Sigmoid    | 0     \n",
      "1 | loss       | MyLoss     | 0     \n",
      "2 | backbone   | ResNet     | 11.2 M\n",
      "3 | fc         | Sequential | 525 K \n",
      "------------------------------------------\n",
      "11.7 M    Trainable params\n",
      "0         Non-trainable params\n",
      "11.7 M    Total params\n",
      "46.809    Total estimated model params size (MB)\n"
     ]
    },
    {
     "data": {
      "application/vnd.jupyter.widget-view+json": {
       "model_id": "",
       "version_major": 2,
       "version_minor": 0
      },
      "text/plain": [
       "Sanity Checking: 0it [00:00, ?it/s]"
      ]
     },
     "metadata": {},
     "output_type": "display_data"
    },
    {
     "name": "stderr",
     "output_type": "stream",
     "text": [
      "/home/nuke/.cache/pypoetry/virtualenvs/orb-classification-iGtAwsn7-py3.8/lib/python3.8/site-packages/pytorch_lightning/trainer/connectors/data_connector.py:495: PossibleUserWarning: Your `val_dataloader`'s sampler has shuffling enabled, it is strongly recommended that you turn shuffling off for val/test/predict dataloaders.\n",
      "  rank_zero_warn(\n"
     ]
    },
    {
     "data": {
      "application/vnd.jupyter.widget-view+json": {
       "model_id": "c0752d3516db41c6981b76e92511ecf6",
       "version_major": 2,
       "version_minor": 0
      },
      "text/plain": [
       "Training: 0it [00:00, ?it/s]"
      ]
     },
     "metadata": {},
     "output_type": "display_data"
    },
    {
     "data": {
      "application/vnd.jupyter.widget-view+json": {
       "model_id": "",
       "version_major": 2,
       "version_minor": 0
      },
      "text/plain": [
       "Validation: 0it [00:00, ?it/s]"
      ]
     },
     "metadata": {},
     "output_type": "display_data"
    },
    {
     "data": {
      "application/vnd.jupyter.widget-view+json": {
       "model_id": "",
       "version_major": 2,
       "version_minor": 0
      },
      "text/plain": [
       "Validation: 0it [00:00, ?it/s]"
      ]
     },
     "metadata": {},
     "output_type": "display_data"
    },
    {
     "data": {
      "application/vnd.jupyter.widget-view+json": {
       "model_id": "",
       "version_major": 2,
       "version_minor": 0
      },
      "text/plain": [
       "Validation: 0it [00:00, ?it/s]"
      ]
     },
     "metadata": {},
     "output_type": "display_data"
    },
    {
     "data": {
      "application/vnd.jupyter.widget-view+json": {
       "model_id": "",
       "version_major": 2,
       "version_minor": 0
      },
      "text/plain": [
       "Validation: 0it [00:00, ?it/s]"
      ]
     },
     "metadata": {},
     "output_type": "display_data"
    },
    {
     "data": {
      "application/vnd.jupyter.widget-view+json": {
       "model_id": "",
       "version_major": 2,
       "version_minor": 0
      },
      "text/plain": [
       "Validation: 0it [00:00, ?it/s]"
      ]
     },
     "metadata": {},
     "output_type": "display_data"
    },
    {
     "data": {
      "application/vnd.jupyter.widget-view+json": {
       "model_id": "",
       "version_major": 2,
       "version_minor": 0
      },
      "text/plain": [
       "Validation: 0it [00:00, ?it/s]"
      ]
     },
     "metadata": {},
     "output_type": "display_data"
    },
    {
     "data": {
      "application/vnd.jupyter.widget-view+json": {
       "model_id": "",
       "version_major": 2,
       "version_minor": 0
      },
      "text/plain": [
       "Validation: 0it [00:00, ?it/s]"
      ]
     },
     "metadata": {},
     "output_type": "display_data"
    },
    {
     "data": {
      "application/vnd.jupyter.widget-view+json": {
       "model_id": "",
       "version_major": 2,
       "version_minor": 0
      },
      "text/plain": [
       "Validation: 0it [00:00, ?it/s]"
      ]
     },
     "metadata": {},
     "output_type": "display_data"
    }
   ],
   "source": [
    "trainer = pl.Trainer(gpus=1, log_every_n_steps=1, max_epochs=EPOCHS)\n",
    "trainer.fit(model, datamodule)\n",
    "trainer.save_checkpoint(\"orb-\" + NN_TYPE + \"-thr\" + str(CLASSIFICATION_THRESHOLD) + \"-ep\" + str(EPOCHS) + \"_sigcoeff\" + str(SIG_COEFF) + \".ckpt\")"
   ]
  },
  {
   "cell_type": "code",
   "execution_count": null,
   "id": "de732af1-1597-4cae-8d32-78dd28ebc734",
   "metadata": {},
   "outputs": [],
   "source": []
  },
  {
   "cell_type": "code",
   "execution_count": null,
   "id": "a351c4c7-e1c3-4e3a-a514-62130329599c",
   "metadata": {},
   "outputs": [],
   "source": []
  }
 ],
 "metadata": {
  "kernelspec": {
   "display_name": "Python 3 (ipykernel)",
   "language": "python",
   "name": "python3"
  },
  "language_info": {
   "codemirror_mode": {
    "name": "ipython",
    "version": 3
   },
   "file_extension": ".py",
   "mimetype": "text/x-python",
   "name": "python",
   "nbconvert_exporter": "python",
   "pygments_lexer": "ipython3",
   "version": "3.8.10"
  },
  "vscode": {
   "interpreter": {
    "hash": "df1fe987116a5492aceced3bb86650a41872214d32d3e479453eebea6f9575c9"
   }
  }
 },
 "nbformat": 4,
 "nbformat_minor": 5
}
